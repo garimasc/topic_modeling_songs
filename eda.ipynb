{
 "cells": [
  {
   "cell_type": "code",
   "execution_count": 130,
   "metadata": {},
   "outputs": [],
   "source": [
    "import pandas as pd\n",
    "from langdetect import DetectorFactory, detect_langs, detect\n",
    "DetectorFactory.seed = 0\n",
    "\n",
    "import seaborn as sns\n",
    "import matplotlib.pyplot as plt"
   ]
  },
  {
   "cell_type": "code",
   "execution_count": 131,
   "metadata": {},
   "outputs": [],
   "source": [
    "data = pd.read_csv(\"data/all_songs_data.csv\", nrows= 10000)"
   ]
  },
  {
   "cell_type": "markdown",
   "metadata": {},
   "source": [
    "### Language Detection"
   ]
  },
  {
   "cell_type": "code",
   "execution_count": 132,
   "metadata": {},
   "outputs": [],
   "source": [
    "df_lang = pd.DataFrame(columns = [\"en\"])\n",
    "for ii in data.index:\n",
    "    try:\n",
    "        # save probabilities\n",
    "        for lang in detect_langs(data.loc[ii,\"Lyrics\"]):\n",
    "            df_lang.loc[ii, lang.lang] = lang.prob\n",
    "    except:\n",
    "        pass\n",
    "\n",
    "# add to main data frame\n",
    "data['lang'] = df_lang.idxmax(axis= 1)\n",
    "    "
   ]
  },
  {
   "cell_type": "markdown",
   "metadata": {},
   "source": [
    "#### Top 5 Languages"
   ]
  },
  {
   "cell_type": "code",
   "execution_count": null,
   "metadata": {},
   "outputs": [
    {
     "ename": "KeyError",
     "evalue": "'lang'",
     "output_type": "error",
     "traceback": [
      "\u001b[1;31m---------------------------------------------------------------------------\u001b[0m",
      "\u001b[1;31mKeyError\u001b[0m                                  Traceback (most recent call last)",
      "File \u001b[1;32mc:\\Users\\garim\\anaconda3\\envs\\github\\lib\\site-packages\\pandas\\core\\indexes\\base.py:3805\u001b[0m, in \u001b[0;36mIndex.get_loc\u001b[1;34m(self, key)\u001b[0m\n\u001b[0;32m   3804\u001b[0m \u001b[38;5;28;01mtry\u001b[39;00m:\n\u001b[1;32m-> 3805\u001b[0m     \u001b[38;5;28;01mreturn\u001b[39;00m \u001b[38;5;28;43mself\u001b[39;49m\u001b[38;5;241;43m.\u001b[39;49m\u001b[43m_engine\u001b[49m\u001b[38;5;241;43m.\u001b[39;49m\u001b[43mget_loc\u001b[49m\u001b[43m(\u001b[49m\u001b[43mcasted_key\u001b[49m\u001b[43m)\u001b[49m\n\u001b[0;32m   3806\u001b[0m \u001b[38;5;28;01mexcept\u001b[39;00m \u001b[38;5;167;01mKeyError\u001b[39;00m \u001b[38;5;28;01mas\u001b[39;00m err:\n",
      "File \u001b[1;32mindex.pyx:167\u001b[0m, in \u001b[0;36mpandas._libs.index.IndexEngine.get_loc\u001b[1;34m()\u001b[0m\n",
      "File \u001b[1;32mindex.pyx:196\u001b[0m, in \u001b[0;36mpandas._libs.index.IndexEngine.get_loc\u001b[1;34m()\u001b[0m\n",
      "File \u001b[1;32mpandas\\\\_libs\\\\hashtable_class_helper.pxi:7081\u001b[0m, in \u001b[0;36mpandas._libs.hashtable.PyObjectHashTable.get_item\u001b[1;34m()\u001b[0m\n",
      "File \u001b[1;32mpandas\\\\_libs\\\\hashtable_class_helper.pxi:7089\u001b[0m, in \u001b[0;36mpandas._libs.hashtable.PyObjectHashTable.get_item\u001b[1;34m()\u001b[0m\n",
      "\u001b[1;31mKeyError\u001b[0m: 'lang'",
      "\nThe above exception was the direct cause of the following exception:\n",
      "\u001b[1;31mKeyError\u001b[0m                                  Traceback (most recent call last)",
      "Cell \u001b[1;32mIn[129], line 1\u001b[0m\n\u001b[1;32m----> 1\u001b[0m \u001b[38;5;28mprint\u001b[39m(\u001b[43mdata\u001b[49m\u001b[43m[\u001b[49m\u001b[38;5;124;43m'\u001b[39;49m\u001b[38;5;124;43mlang\u001b[39;49m\u001b[38;5;124;43m'\u001b[39;49m\u001b[43m]\u001b[49m\u001b[38;5;241m.\u001b[39mvalue_counts(normalize\u001b[38;5;241m=\u001b[39m \u001b[38;5;28;01mTrue\u001b[39;00m)\u001b[38;5;241m.\u001b[39msort_values(ascending \u001b[38;5;241m=\u001b[39m \u001b[38;5;28;01mFalse\u001b[39;00m)\u001b[38;5;241m.\u001b[39mhead(\u001b[38;5;241m5\u001b[39m))\n",
      "File \u001b[1;32mc:\\Users\\garim\\anaconda3\\envs\\github\\lib\\site-packages\\pandas\\core\\series.py:1121\u001b[0m, in \u001b[0;36mSeries.__getitem__\u001b[1;34m(self, key)\u001b[0m\n\u001b[0;32m   1118\u001b[0m     \u001b[38;5;28;01mreturn\u001b[39;00m \u001b[38;5;28mself\u001b[39m\u001b[38;5;241m.\u001b[39m_values[key]\n\u001b[0;32m   1120\u001b[0m \u001b[38;5;28;01melif\u001b[39;00m key_is_scalar:\n\u001b[1;32m-> 1121\u001b[0m     \u001b[38;5;28;01mreturn\u001b[39;00m \u001b[38;5;28;43mself\u001b[39;49m\u001b[38;5;241;43m.\u001b[39;49m\u001b[43m_get_value\u001b[49m\u001b[43m(\u001b[49m\u001b[43mkey\u001b[49m\u001b[43m)\u001b[49m\n\u001b[0;32m   1123\u001b[0m \u001b[38;5;66;03m# Convert generator to list before going through hashable part\u001b[39;00m\n\u001b[0;32m   1124\u001b[0m \u001b[38;5;66;03m# (We will iterate through the generator there to check for slices)\u001b[39;00m\n\u001b[0;32m   1125\u001b[0m \u001b[38;5;28;01mif\u001b[39;00m is_iterator(key):\n",
      "File \u001b[1;32mc:\\Users\\garim\\anaconda3\\envs\\github\\lib\\site-packages\\pandas\\core\\series.py:1237\u001b[0m, in \u001b[0;36mSeries._get_value\u001b[1;34m(self, label, takeable)\u001b[0m\n\u001b[0;32m   1234\u001b[0m     \u001b[38;5;28;01mreturn\u001b[39;00m \u001b[38;5;28mself\u001b[39m\u001b[38;5;241m.\u001b[39m_values[label]\n\u001b[0;32m   1236\u001b[0m \u001b[38;5;66;03m# Similar to Index.get_value, but we do not fall back to positional\u001b[39;00m\n\u001b[1;32m-> 1237\u001b[0m loc \u001b[38;5;241m=\u001b[39m \u001b[38;5;28;43mself\u001b[39;49m\u001b[38;5;241;43m.\u001b[39;49m\u001b[43mindex\u001b[49m\u001b[38;5;241;43m.\u001b[39;49m\u001b[43mget_loc\u001b[49m\u001b[43m(\u001b[49m\u001b[43mlabel\u001b[49m\u001b[43m)\u001b[49m\n\u001b[0;32m   1239\u001b[0m \u001b[38;5;28;01mif\u001b[39;00m is_integer(loc):\n\u001b[0;32m   1240\u001b[0m     \u001b[38;5;28;01mreturn\u001b[39;00m \u001b[38;5;28mself\u001b[39m\u001b[38;5;241m.\u001b[39m_values[loc]\n",
      "File \u001b[1;32mc:\\Users\\garim\\anaconda3\\envs\\github\\lib\\site-packages\\pandas\\core\\indexes\\base.py:3812\u001b[0m, in \u001b[0;36mIndex.get_loc\u001b[1;34m(self, key)\u001b[0m\n\u001b[0;32m   3807\u001b[0m     \u001b[38;5;28;01mif\u001b[39;00m \u001b[38;5;28misinstance\u001b[39m(casted_key, \u001b[38;5;28mslice\u001b[39m) \u001b[38;5;129;01mor\u001b[39;00m (\n\u001b[0;32m   3808\u001b[0m         \u001b[38;5;28misinstance\u001b[39m(casted_key, abc\u001b[38;5;241m.\u001b[39mIterable)\n\u001b[0;32m   3809\u001b[0m         \u001b[38;5;129;01mand\u001b[39;00m \u001b[38;5;28many\u001b[39m(\u001b[38;5;28misinstance\u001b[39m(x, \u001b[38;5;28mslice\u001b[39m) \u001b[38;5;28;01mfor\u001b[39;00m x \u001b[38;5;129;01min\u001b[39;00m casted_key)\n\u001b[0;32m   3810\u001b[0m     ):\n\u001b[0;32m   3811\u001b[0m         \u001b[38;5;28;01mraise\u001b[39;00m InvalidIndexError(key)\n\u001b[1;32m-> 3812\u001b[0m     \u001b[38;5;28;01mraise\u001b[39;00m \u001b[38;5;167;01mKeyError\u001b[39;00m(key) \u001b[38;5;28;01mfrom\u001b[39;00m \u001b[38;5;21;01merr\u001b[39;00m\n\u001b[0;32m   3813\u001b[0m \u001b[38;5;28;01mexcept\u001b[39;00m \u001b[38;5;167;01mTypeError\u001b[39;00m:\n\u001b[0;32m   3814\u001b[0m     \u001b[38;5;66;03m# If we have a listlike key, _check_indexing_error will raise\u001b[39;00m\n\u001b[0;32m   3815\u001b[0m     \u001b[38;5;66;03m#  InvalidIndexError. Otherwise we fall through and re-raise\u001b[39;00m\n\u001b[0;32m   3816\u001b[0m     \u001b[38;5;66;03m#  the TypeError.\u001b[39;00m\n\u001b[0;32m   3817\u001b[0m     \u001b[38;5;28mself\u001b[39m\u001b[38;5;241m.\u001b[39m_check_indexing_error(key)\n",
      "\u001b[1;31mKeyError\u001b[0m: 'lang'"
     ]
    }
   ],
   "source": [
    "print(data['lang'].value_counts(normalize= True).sort_values(ascending = False).head(5))"
   ]
  },
  {
   "cell_type": "code",
   "execution_count": 117,
   "metadata": {},
   "outputs": [
    {
     "data": {
      "text/plain": [
       "Year\n",
       "1959.0    94\n",
       "1960.0    97\n",
       "1961.0    95\n",
       "1962.0    97\n",
       "1963.0    98\n",
       "          ..\n",
       "2019.0    99\n",
       "2020.0    99\n",
       "2021.0    98\n",
       "2022.0    99\n",
       "2023.0    97\n",
       "Name: lang, Length: 65, dtype: int64"
      ]
     },
     "execution_count": 117,
     "metadata": {},
     "output_type": "execute_result"
    }
   ],
   "source": [
    "\n",
    "pd.pivot_table(data, index= \"Year\", columns=)"
   ]
  },
  {
   "cell_type": "code",
   "execution_count": 88,
   "metadata": {},
   "outputs": [
    {
     "name": "stdout",
     "output_type": "stream",
     "text": [
      "en    0.142858\n",
      "pt    0.714284\n",
      "so    0.142857\n",
      "Name: 7, dtype: object\n",
      "Doo dooby doo Dum dum, dum doo dum, dooby doo Dum dum, dum doo dum, dooby doo Dum dum, dum doo dum, dooby doo Dum dum, dum doo dum, dooby doo  (Come softly, darling) Dum dum, dum doo dum, dooby doo (Come softly, darling) Dum dum, dum doo dum, dooby doo (Come softly, darling) Dum dum, dum doo dum, dooby doo (Come softly, darling) Dum dum, dum doo dum, dooby doo  (Come softly, darling) Dum dum, dum doo dum, dooby doo (Come to me, stay) Dum dum, dum doo dum, dooby doo (You're my obsession) Dum dum, dum doo dum, dooby doo (Forever and a day) Dum dum, dum doo dum, dooby doo  I want, want you to know, dooby do I love, I love you so, doby do Please hold, hold me so tight, dooby do All through, all through the night, dooby do  (I speak softly, darling) Dum dum, dum doo dum, dooby doo (Hear what I say) Dum dum, dum doo dum, dooby doo (I love you always) Dum dum, dum doo dum, dooby doo (Always, always) Dum dum, dum doo dum, dooby doo  I've waited, waited so long, dooby do For your kisses and your love, dooby do Please come, come to me, dooby do From up, from up above, dooby do  (Come softly, darling) I want, want you to know, dooby do (Come softly, darling) I love, I love you so, dooby do (Come softly) I need, Ineed you so much, dooby do (Come softly) Want to feel your warm, warm touch, dooby do  Dum dum, dum doo dum, dooby doo Dum dum, dum doo dum, dooby doo Dum dum, dum doo dum, dooby doo Dum dum, dum doo dum, dooby doo  Dum dum, dum doo dum, dooby doo Dum dum, dum doo dum, dooby doo Dum dum, dum doo dum, dooby doo\n",
      "-------------------------------\n",
      "en    0.142857\n",
      "id    0.857142\n",
      "Name: 178, dtype: object\n",
      "Nah, nah, nah Nah, nah, nah, whoa-oh, whoa-oh Nah, nah, nah Nah, nah, nah, whoa-oh, whoa-oh  Cherry, nah-nah-nah cherry pie nah-nah-nah-nah-nah Cherry, nah-nah-nah cherry pie nah-nah-nah-nah-nah Cherry, nah-nah-nah cherry pie , whoa so good Nah, nah Nah, nah, nah, whoa-oh, whoa-oh  Sugar, nah-nah-nah sugar plum nah-nah-nah-nah-nah Sugar, nah-nah-nah sugar plum nah-nah-nah-nah-nah Sugar, nah-nah-nah sugar plum, sweet as they come Nah, nah, nah, nah, nah, nah (Da, da, da, da, da)  Like Little Jack Horner sat, sat, sat in the corner Eating his cherry, cherry pie I didn't put in a thumb I didn't pull out a plum I guess I'm not as great as he, whoa-oh, whoa-oh  Give me nah-nah-nah give me some nah-nah-nah-nah-nah Give me nah-nah-nah give me some nah-nah-nah-nah-nah Give me nah-nah-nah give me some cherry, cherry pie Nah, nah Nah, nah, nah, whoa-oh, whoa-oh Nah, nah, nah Nah, nah, nah cherry pie Nah, nah, nah Nah, nah, nah cherry pie  Fade Nah, nah, nah Nah, nah, nah cherry pie\n",
      "-------------------------------\n",
      "en    0.142856\n",
      "id    0.142858\n",
      "sw    0.571425\n",
      "hr    0.142857\n",
      "Name: 243, dtype: object\n",
      "Senor Senora Senorita  Shall we dance?  1, 2, step...step by step...  Nani wo kakusou senyoriita Watashi koso ga 1, 2, step...step by step... Ikichi moshi tataru ii otoko 1, 2, step...step by step... Onozomi to araba hone no zui to made 1, 2, step...step by step... Kojiman no kiba wo meshi agare  Aa...tsuki ni terasare aojiroku hikaru Kubisuji ni sotto chikai no kisu wo Demo naze darou, mune no oku dokoka Konna ni mo itamu no wa...  \"kimi wo aishite shimatta mitai nanda\"  1, 2, step...step by step... Odori masenka boniita Te wo tori 1, 2, step...step by step... Koshi karamasete an, du, torowaa 1, 2, step...step by step... Kuchibiru fure souna kyori de fui ni 1, 2, step...step by step... Sasayaku kotoba wa \"te amoore\"  Aa... kono mune ni saita jounetsu no bara Sono toge de kokoro shime tsukeru Soshite boku wa kimi wo omou tabi Chi no namida wo nagasunda  Kanawa nai koi naraba isso kowashite shimae, to Negatte shimau no wa ike nai koto deshou ka?  Boku ga boku ja nakya donna ni yokattarou? Kimi wo kizutsukeru koto nado naku aiseru no ni...  1, 2, step...step by step... Toki no aizu de futari wa randebuu 1, 2, step...step by step... Mata asa ga kite hanarebanare  Aa ...aishita kimi ni sae chikaduke nai Boku wa aware na mosukiito sa  \"dakishimetai, dakishimerare nai...\" no wa Kowashite shimai sou dakara  Kawari yuku kono karada, tatoe hikarabi you tomo Douka kono koi ga tsumi to natte shimau mae ni  Todoka nai kiss naraba, minora nai rabusutoorii naraba Semete yume no naka, dakishimesasete okure  Omoeba omou hodo, chikaduite wa hanarete iku... Tsuki to taiyou no you ni\n",
      "-------------------------------\n",
      "en    0.142861\n",
      "de    0.857139\n",
      "Name: 421, dtype: object\n",
      "Pd... Musik: Russ Hallett; Aldo Brozzetti; and Jack Sinchaski ℗1963 ...Pd Pd... ®ReRec1963; Us Ht#8 ...Pd Pd... [♫ Instrumental ♫] ...Pd ...Pd...\n",
      "-------------------------------\n",
      "en    0.142857\n",
      "sw    0.142857\n",
      "af    0.142857\n",
      "tl    0.571427\n",
      "Name: 900, dtype: object\n",
      "[Verse 1] Hey Jude, don't make it bad Take a sad song and make it better Remember to let her into your heart Then you can start to make it better  [Verse 2] Hey Jude, don't be afraid You were made to go out and get her The minute you let her under your skin Then you begin to make it better  [Bridge 1] And anytime you feel the pain, hey Jude, refrain Don't carry the world upon your shoulders For well you know that it's a fool who plays it cool By making his world a little colder Na na na na na na na na na na  [Verse 3] Hey Jude, don't let me down You have found her, now go and get her (Let it out and let it in) Remember (Hey Jude) to let her into your heart Then you can start to make it better  [Bridge 2] So let it out and let it in, hey Jude, begin You're waiting for someone to perform with And don't you know that it's just you, hey Jude, you'll do The movement you need is on your shoulder Na na na na na na na na na yeah  [Verse 4] Hey Jude, don't make it bad Take a sad song and make it better Remember to let her under your skin Then you'll begin to make it (Whoa, fucking hell!) Better better better better better better, oh  [Outro] Yeah yeah yeah yeah yeah yeah yeah Naa na na na na na na, na na na na, hey Jude Naa na na na na na na, na na na na, hey Jude Naa na na na na na na, na na na na, hey Jude Naa na na na na na na, na na na na, hey Jude (Jude Judy Judy Judy Judy Judy owwwww wowww) Naa na na na na na na (Na na na), na na na na, hey Jude (Jude Jude Jude Jude Jude) Naa na na na na na na (Yeah yeah yeah), na na na na, hey Jude (You know you can make, Jude Jude, You're not gonna break it) Naa na (Don't make it bad Jude) na na na na na (Take a sad song and make it better), na na na na, hey Jude Hey Jude, hey Jude wowwwwww Naa na na na na na na, na na na na, hey Jude Naa na na na na na na, na na na na, hey Jude Jude Jude Jude Jude Jude Jude Naa na na na na na na, na na na na, hey Jude Naa na na na na na na, na na na na, hey Jude (Na na na na na na na na na na na na) Naa na na na na na na, na na na na, hey Jude Naa na na na na na na, na na na na, hey Jude Naa na na na na na na (Make it Jude), na na na na, hey Jude (Yeah yeah yeah yeah yeah yeah yeah) Naa na na na na na na, na na na na, hey Jude (Go listen to ya ma ma ma ma ma ma ma ma) Naa na na na na na na, na na na na, hey Jude Naa na na na na na na, na na na na, hey Jude\n",
      "-------------------------------\n",
      "en    0.142858\n",
      "tl     0.85714\n",
      "Name: 1350, dtype: object\n",
      "[Instrumental]  [Female] Ay, ay que [?]  No, no, no, ay, ay  Así, así, así, ay, ay  Suave, no, no, no, [?]  Ah, mhh, mhh, ay, ay  Ay no, phh, mah, mah, mah  (Heavy breathing)  Dime, dame, dime, ay  No, no, no, no  (Heavy male breathing) Suave, suave, suave, suave Di!  Ayyyyyy, ayyyyy, si, ay, ay, si, aya, yah (male groaning)  (Heavy male breathing) (Heavy both breathing)\n",
      "-------------------------------\n",
      "en    0.142857\n",
      "so    0.571427\n",
      "id    0.285715\n",
      "Name: 3722, dtype: object\n",
      "[Intro: Melanie Thornton] La da da dee da da, da da La da da dee da da, da da La da da dee da La da da da dee da La da dee da da da, da da Be my lover Wanna be my lover  [Verse 1: Melanie Thornton] Looking back on all the time we've spent together You oughta know right now, if you wanna be my lover Wanna be my lover Go ahead and take your time, boy, you gotta feel secure Before I make you mine, baby, you have to be sure You wanna be my lover, wanna be my lover, wanna be my lover  [Hook: Melanie Thornton] La da da dee da da, da da La da da dee da da, da da La da da dee da La da da da dee da La da dee da da da, da da  La da da dee da da, da da La da da dee da da, da da La da da dee da La da da da dee da La da dee da da da da da  [Hook 2: Melanie Thornton] Ah ha yeah hey, wanna be my lover Ah ha yeah hey, wanna be my lover Ah ha yeah hey, wanna be my lover Ah ha yeah hey, wanna be my lover  [Verse 2: Lane McCray] I must confess Girl yes, I want to be your lover Take a chance, my love is like no other On the dance floor getting down Hold tight, I'll never let you down My love is definitely the key Like Boyz II Men, I'm on bended knee Loving you, not like your brother, ah yeah I want to be your lover  [Bridge: Melanie Thornton] I hear what you say I see what you do I know everything I need to know about you And I want you to know that it's telling me You wanna be my lover  [Hook: Melanie Thornton] La da da dee da da, da da La da da dee da da, da da La da da dee da La da da da dee da La da dee da da da, da da  [Hook 2: Melanie Thornton] Ah ha yeah hey, wanna be my lover Ah ha yeah hey, wanna be my lover Ah ha yeah hey, wanna be my lover Ah ha yeah hey, wanna be my lover, hey yeah  Oh, be my lover, yeah Oh, be my lover I know you wanna be my lover I know you wanna be mine  [Hook: Melanie Thornton] La da da dee da da, da da La da da dee da da, da da La da da dee da La da da da dee da La da dee da da da, da da  La da da dee da da, da da La da da dee da da, da da La da da dee da La da da da dee da La da dee da da da, da da  [Hook 2: Melanie Thornton] Ah ha yeah hey, wanna be my lover Ah ha yeah hey, wanna be my lover Ah ha yeah hey, wanna be my lover Ah ha yeah hey, oh be my lover, yeah\n",
      "-------------------------------\n",
      "en    0.142856\n",
      "af    0.142858\n",
      "sq    0.714284\n",
      "Name: 3896, dtype: object\n",
      "I like it like that Yeah baby I like it like that I like it like that I like it like that I got soul, I got soul I like it like that Por ti me quiero I like it like that Oh oh baby I like it like that I like it like that I like it like that Si aqui me quiero mi amour I like it like that I got soul, I got soul I like it like that Yeah baby I like it like that I like it like that I like it like that Si aqui me quiero I like it like that I want you like that I like it like that I got soul, I got soul Stomp your feet if you like my beat Clap your hands if you want some more Stomp your feet if you like my beat Clap your hands if you want some more Stomp your feet if you like my beat I like I like it, I like it like that I like I like it, I like it like that I got soul I like it, I like it I like it, I like it Yeah Baby I like it like that I like it like that Yeah baby I like it like that I like it like that I like it like that Si aqui me quiero I like it like that Si aqui me quiero mi amour I like it like that Yeah baby I like it like that I like it like that I like it like that I got soul, I got soul I like it like that I got soul, I got soul I like it like that Yeah I like it like that I like it like that I like it like that\n",
      "-------------------------------\n",
      "en    0.142857\n",
      "id    0.285714\n",
      "tl    0.571426\n",
      "Name: 5346, dtype: object\n",
      "Hangul  [Intro] 오빤 강남 스타일 강남 스타일  [Verse 1] 낮에는 따사로운 인간적인 여자 커피 한잔의 여유를 아는, 품격 있는 여자 밤이 오면 심장이 뜨거워지는 여자 그런 반전 있는 여자 나는 사나이 낮에는 너만큼 따사로운 그런 사나이 커피 식기도 전에 원샷 때리는 사나이 밤이 오면 심장이 터져 버리는 사나이 그런 사나이  [Pre-Hook] 아름다워 사랑스러워 그래, 너 (hey) 그래, 바로 너 (hey) 아름다워 사랑스러워 그래, 너 (hey) 그래, 바로 너 (hey) 지금부터 갈 데까지 가 볼까  [Hook] 오빤 강남 스타일 강남 스타일 옵, 옵, 옵, 옵, 오빤 강남 스타일 강남 스타일 옵, 옵, 옵, 옵, 오빤 강남 스타일 에, sexy lady 옵, 옵, 옵, 옵, 오빤 강남 스타일 에, sexy lady 옵, 옵, 옵, 옵, 에에에 에에에  [Verse 2] 정숙해 보이지만 놀 땐 노는 여자 이때다 싶으면 묶었던 머리 푸는 여자 가렸지만 웬만한 노출보다 야한 여자 그런 감각적인 여자 나는 사나이 점잖아 보이지만 놀 땐 노는 사나이 때가 되면 완전 미쳐 버리는 사나이 근육보다 사상이 울퉁불퉁한 사나이 그런 사나이  [Pre-Hook] 아름다워 사랑스러워 그래, 너 (hey) 그래, 바로 너 (hey) 아름다워 사랑스러워 그래, 너 (hey) 그래, 바로 너 (hey) 지금부터 갈 데까지 가 볼까  [Hook] 오빤 강남 스타일 강남 스타일 옵, 옵, 옵, 옵, 오빤 강남 스타일 강남 스타일 옵, 옵, 옵, 옵, 오빤 강남 스타일 에, sexy lady 옵, 옵, 옵, 옵, 오빤 강남 스타일 에, sexy lady 옵, 옵, 옵, 옵, 에에에 에에에  [Bridge] 뛰는 놈, 그 위에 나는 놈 Baby baby 나는 뭘 좀 아는 놈 뛰는 놈, 그 위에 나는 놈 Baby baby 나는 뭘 좀 아는 놈 You know what I'm saying  [Outro (Hook)] 오빤 강남 스타일 에에에 에에에 에, sexy lady 옵, 옵, 옵, 옵, 오빤 강남 스타일 에, sexy lady 옵, 옵, 옵, 옵, 에에에 에에에 오빤 강남 스타일  Romanization  Oppan gang-namseutayil Kang-namseutayil  Naje-neun ttasaroun inkanjeo-gin yeoja Keopi hanjanye yeoyureuraneun pumkyeok i-nneun yeoja Bami omyeon shimjangi tteugeowojineun yeoja Keureon banjeon i-nneun yeoja  Naneun sana-i Naje-neun neomankeum ttasaroun geureon sana-i Keopi shikgido jeone wonsyas ttaerineun sana-i Bami omyeon shimjangi teojyeobeorineun sana-i Keureon sana-i  Areumdawo sarangseureowo Keurae neo hey keurae baro neo hey Areumdawo sarangseureowo Keurae neo hey keurae baro neo hey Chigeumbu-teo kal dekkaji kabol-kka  Oppan Gangnam style Gangnam style Oppan Gangnam style Gangnam style Oppan Gangnam style  Eh- sexy lady Oppan Gangnam style Eh- sexy lady O-oo-o  Jeongsu-khae boijiman nol ttaen noneun yeoja Ittaeda shipeumyeon mukkeot-deon meori puneun yeoja Karyeot-jiman wen-manhan nochulboda yahan yeoja Keureon gamkakjeo-gin yeoja  Naneun sana-i Jeomjanha boijiman nol ttaen noneun sana-i Ttae-ga dwehmyeon wahnjeon michyeobeorineun sana-i Keunyukboda sasangi ul-tungbul-tung-han sana-i Keureon sana-i  Areumdawo, sarangseureowo Keurae neo hey keurae baro neo hey Areumdawo, sarangseureowo Keurae neo hey keurae baro neo hey Chigeumbu-teo kal dekkaji kabol-kka  Oppan Gangnam style Gangnam style Oppan Gangnam style Gangnam style Oppan Gangnam style  Eh- sexy lady Oppan Gangnam style Eh- sexy lady O-oo-o  Ttwiineun nom keu wiie naneun nom Baby baby Naneun mwol jom aneun nom Ttwiineun nom keu wiie naneun nom Baby baby Naneun mwol jom aneun nom  You know what I’m sayin' Oppan Gangnam style  Eh- Sexy Lady Oppa Gangnam style Eh- Sexy Lady Oppa Gangnam style o-oo-o oh\n",
      "-------------------------------\n",
      "en    0.142857\n",
      "id    0.285714\n",
      "tl    0.571426\n",
      "Name: 5454, dtype: object\n",
      "Hangul  [Intro] 오빤 강남 스타일 강남 스타일  [Verse 1] 낮에는 따사로운 인간적인 여자 커피 한잔의 여유를 아는, 품격 있는 여자 밤이 오면 심장이 뜨거워지는 여자 그런 반전 있는 여자 나는 사나이 낮에는 너만큼 따사로운 그런 사나이 커피 식기도 전에 원샷 때리는 사나이 밤이 오면 심장이 터져 버리는 사나이 그런 사나이  [Pre-Hook] 아름다워 사랑스러워 그래, 너 (hey) 그래, 바로 너 (hey) 아름다워 사랑스러워 그래, 너 (hey) 그래, 바로 너 (hey) 지금부터 갈 데까지 가 볼까  [Hook] 오빤 강남 스타일 강남 스타일 옵, 옵, 옵, 옵, 오빤 강남 스타일 강남 스타일 옵, 옵, 옵, 옵, 오빤 강남 스타일 에, sexy lady 옵, 옵, 옵, 옵, 오빤 강남 스타일 에, sexy lady 옵, 옵, 옵, 옵, 에에에 에에에  [Verse 2] 정숙해 보이지만 놀 땐 노는 여자 이때다 싶으면 묶었던 머리 푸는 여자 가렸지만 웬만한 노출보다 야한 여자 그런 감각적인 여자 나는 사나이 점잖아 보이지만 놀 땐 노는 사나이 때가 되면 완전 미쳐 버리는 사나이 근육보다 사상이 울퉁불퉁한 사나이 그런 사나이  [Pre-Hook] 아름다워 사랑스러워 그래, 너 (hey) 그래, 바로 너 (hey) 아름다워 사랑스러워 그래, 너 (hey) 그래, 바로 너 (hey) 지금부터 갈 데까지 가 볼까  [Hook] 오빤 강남 스타일 강남 스타일 옵, 옵, 옵, 옵, 오빤 강남 스타일 강남 스타일 옵, 옵, 옵, 옵, 오빤 강남 스타일 에, sexy lady 옵, 옵, 옵, 옵, 오빤 강남 스타일 에, sexy lady 옵, 옵, 옵, 옵, 에에에 에에에  [Bridge] 뛰는 놈, 그 위에 나는 놈 Baby baby 나는 뭘 좀 아는 놈 뛰는 놈, 그 위에 나는 놈 Baby baby 나는 뭘 좀 아는 놈 You know what I'm saying  [Outro (Hook)] 오빤 강남 스타일 에에에 에에에 에, sexy lady 옵, 옵, 옵, 옵, 오빤 강남 스타일 에, sexy lady 옵, 옵, 옵, 옵, 에에에 에에에 오빤 강남 스타일  Romanization  Oppan gang-namseutayil Kang-namseutayil  Naje-neun ttasaroun inkanjeo-gin yeoja Keopi hanjanye yeoyureuraneun pumkyeok i-nneun yeoja Bami omyeon shimjangi tteugeowojineun yeoja Keureon banjeon i-nneun yeoja  Naneun sana-i Naje-neun neomankeum ttasaroun geureon sana-i Keopi shikgido jeone wonsyas ttaerineun sana-i Bami omyeon shimjangi teojyeobeorineun sana-i Keureon sana-i  Areumdawo sarangseureowo Keurae neo hey keurae baro neo hey Areumdawo sarangseureowo Keurae neo hey keurae baro neo hey Chigeumbu-teo kal dekkaji kabol-kka  Oppan Gangnam style Gangnam style Oppan Gangnam style Gangnam style Oppan Gangnam style  Eh- sexy lady Oppan Gangnam style Eh- sexy lady O-oo-o  Jeongsu-khae boijiman nol ttaen noneun yeoja Ittaeda shipeumyeon mukkeot-deon meori puneun yeoja Karyeot-jiman wen-manhan nochulboda yahan yeoja Keureon gamkakjeo-gin yeoja  Naneun sana-i Jeomjanha boijiman nol ttaen noneun sana-i Ttae-ga dwehmyeon wahnjeon michyeobeorineun sana-i Keunyukboda sasangi ul-tungbul-tung-han sana-i Keureon sana-i  Areumdawo, sarangseureowo Keurae neo hey keurae baro neo hey Areumdawo, sarangseureowo Keurae neo hey keurae baro neo hey Chigeumbu-teo kal dekkaji kabol-kka  Oppan Gangnam style Gangnam style Oppan Gangnam style Gangnam style Oppan Gangnam style  Eh- sexy lady Oppan Gangnam style Eh- sexy lady O-oo-o  Ttwiineun nom keu wiie naneun nom Baby baby Naneun mwol jom aneun nom Ttwiineun nom keu wiie naneun nom Baby baby Naneun mwol jom aneun nom  You know what I’m sayin' Oppan Gangnam style  Eh- Sexy Lady Oppa Gangnam style Eh- Sexy Lady Oppa Gangnam style o-oo-o oh\n",
      "-------------------------------\n",
      "en    0.142858\n",
      "tl    0.857141\n",
      "Name: 5581, dtype: object\n",
      "[Intro] Na na, la la la la la na na na na na La la na na, la la la la la na na na na na La la na na, la la la la la na na na na na La la na na, la la la la la na na na na na (Tu meri mauja hain)  [Verse 1] Hush, don't speak When you spit your venom, keep it shut I hate it When you hiss and preach About your new messiah cause your theories catch fire  [Bridge] I can't find your silver lining I don't mean to judge But when you read your speech, it's tiring Enough is enough  [Hook] I'm covering my ears like a kid When your words mean nothing, I go la la la I'm turning up the volume when you speak Cause if my heart can't stop it, I'll find a way to block it, I go Na na, la la la la la na na na na na La la na na, la la la la la na na na na na (I found a way to block it, I go) La la na na, la la la la la na na na na na La la na na, la la la la la na na na na na  [Verse 2] If our love is running out of time I won't count the hours, rather be a coward When our words collide I'm gonna drown you out before I lose my mind  [Bridge] I can't find your silver lining I don't mean to judge But when you read your speech, it's tiring Enough is enough  [Hook] I'm covering my ears like a kid When your words mean nothing, I go la la la I'm turning up the volume when you speak Cause if my heart can't stop it I'll find a way to block it, I go Na na, la la la la la na na na na na La la na na, la la la la la na na na na na (I found a way to block it, I go) La la na na , la la la la la na na na na na La la na na, la la la la la na na na na na (I found a way to block it, oh) Na na, la la la la la na na na na na La la na na, la la la la la na na na na na (I found a way to block it, I go) La la na na, la la la la la na na na na na La la na na, la la la la la na na na na na (Tu meri mauja hain) I'm covering my ears like a kid When your words mean nothing, I go la la la I'm turning up the volume when you speak Cause if my heart can't stop it I find a way to block it, I go I'm covering my ears like a kid When your words mean nothing, I go la la la I'm turning up the volume when you speak (when you speak) Cause if my heart can't stop it I find a way to block it, I go Na na, la la la la la na na na na na La la na na, la la la la la na na na na na La la na na, la la la la la na na na na na La la na na, la la la la la na na na na na (Tu meri mauja hain)\n",
      "-------------------------------\n",
      "en    0.142858\n",
      "so    0.142857\n",
      "id    0.714284\n",
      "Name: 6354, dtype: object\n",
      "(Tu-tu-tu, tu-tu-tu-tu-tu) (Tu-tu-tu-tu, tu-tu-tu-tu-tu) Yeah  [Verse 1] My baby, my valentine, yeah Girl, na you dey make my temperature dey rise If you leave me, I go die, I swear You are like the oxygen I need to survive I'll be honest Your loving dey totori me I am so obsessed I want to chop your nkwobi  [Pre-Chorus] Ule, your body dey gbakam isi Ule, open am make I see Ule, nyem love nwantiti Wey fit make a bad man sing \"Oh-ahh\"  [Chorus] Ahh, ah-ah-ah-ah-ah, ah-ah-ah, ah-ah, ah-ah-ah Ahh, ah-ah-ah-ah-ah, ah-ah-ah, ah-ah, ah-ah-ah Ahh, ah-ah-ah-ah-ah, ah-ah-ah, ah-ah, ah-ah-ah Ahh, ah-ah-ah-ah-ah, ah-ah-ah, ah-ah, ah-ah-ah You might also like[Verse 2] Baby girl, where you from come? Yeah Your body na follow come, yeah No be silicon, uh Baba God e finish work, eh-eh-eh-eh-eh Without you, I go fit lose my mind Without you, I go fit fall and die Without you, I go give all my life Without you, without you  [Pre-Chorus] Ule, your body dey gbakam isi Ule, open am make I see Ule, nyem love nwantiti Wey fit make a bad man sing \"Oh-ahh\"  [Chorus] Ahh, ah-ah-ah-ah-ah, ah-ah-ah, ah-ah, ah-ah-ah Ahh, ah-ah-ah-ah-ah, ah-ah-ah, ah-ah, ah-ah-ah Ahh, ah-ah-ah-ah-ah, ah-ah-ah, ah-ah, ah-ah-ah Ahh, ah-ah-ah-ah-ah, ah-ah-ah, ah-ah, ah-ah-ah  [Verse 3] You mean the world to me You're my living fantasy I-I-I, I love you I-I-I put no one above of you Lover, don't give this love to nobody Lover, don't call another nigga \"honey\" Lover, lover, I wanna be your lover Forever, forever [Outro] Tu-tu-tu, tu-tu-tu-tu-tu Tu-tu-tu-tu, tu-tu-tu-tu-tu (Tempoe) CKay, yo12Embed\n",
      "-------------------------------\n"
     ]
    }
   ],
   "source": [
    "for ii in df_lang.query('en < 0.2').index:\n",
    "    print(df_lang.loc[ii].dropna())\n",
    "    print(data.loc[ii, \"Lyrics\"])\n",
    "    print(\"-------------------------------\")"
   ]
  },
  {
   "cell_type": "code",
   "execution_count": null,
   "metadata": {},
   "outputs": [],
   "source": [
    "|"
   ]
  }
 ],
 "metadata": {
  "kernelspec": {
   "display_name": "berkeley",
   "language": "python",
   "name": "python3"
  },
  "language_info": {
   "codemirror_mode": {
    "name": "ipython",
    "version": 3
   },
   "file_extension": ".py",
   "mimetype": "text/x-python",
   "name": "python",
   "nbconvert_exporter": "python",
   "pygments_lexer": "ipython3",
   "version": "3.10.13"
  }
 },
 "nbformat": 4,
 "nbformat_minor": 2
}
