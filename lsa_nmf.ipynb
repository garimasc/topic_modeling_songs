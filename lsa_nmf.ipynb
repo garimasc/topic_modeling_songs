{
 "cells": [
  {
   "cell_type": "code",
   "execution_count": 6,
   "metadata": {},
   "outputs": [
    {
     "name": "stderr",
     "output_type": "stream",
     "text": [
      "[nltk_data] Downloading package punkt to\n",
      "[nltk_data]     C:\\Users\\garim\\AppData\\Roaming\\nltk_data...\n",
      "[nltk_data]   Package punkt is already up-to-date!\n"
     ]
    },
    {
     "data": {
      "text/plain": [
       "True"
      ]
     },
     "execution_count": 6,
     "metadata": {},
     "output_type": "execute_result"
    }
   ],
   "source": [
    "import pandas as pd\n",
    "import numpy as np \n",
    "\n",
    "import matplotlib.pyplot as plt\n",
    "import seaborn as sns\n",
    "\n",
    "from sklearn.manifold import TSNE\n",
    "from sklearn.decomposition import TruncatedSVD, NMF, LatentDirichletAllocation\n",
    "from sklearn.feature_extraction.text import TfidfVectorizer\n",
    "\n",
    "from tqdm import tqdm\n",
    "from wordcloud import WordCloud\n",
    "\n",
    "import nltk\n",
    "from nltk import word_tokenize\n",
    "nltk.download('punkt')\n",
    "\n",
    "from gensim import corpora\n",
    "from gensim.models import CoherenceModel\n",
    "from gensim.corpora import Dictionary\n",
    "from gensim.utils import simple_preprocess\n",
    "from gensim.matutils import corpus2dense, corpus2csc\n",
    "\n",
    "import pyLDAvis\n",
    "import pyLDAvis.lda_model"
   ]
  },
  {
   "cell_type": "markdown",
   "metadata": {},
   "source": [
    "## Latent Sematic Analysis (LSA)"
   ]
  },
  {
   "cell_type": "code",
   "execution_count": 17,
   "metadata": {},
   "outputs": [
    {
     "name": "stderr",
     "output_type": "stream",
     "text": [
      "c:\\Users\\garim\\anaconda3\\envs\\github\\lib\\site-packages\\sklearn\\feature_extraction\\text.py:521: UserWarning: The parameter 'token_pattern' will not be used since 'tokenizer' is not None'\n",
      "  warnings.warn(\n"
     ]
    },
    {
     "name": "stdout",
     "output_type": "stream",
     "text": [
      "   Topics  LSA Perplexity  NMF Perplexity  LSA Coherence  NMF Coherence\n",
      "0       2       -0.022179      -71.766468       0.403511       0.388935\n"
     ]
    }
   ],
   "source": [
    "# read in pre-processed ata\n",
    "data = pd.read_csv(\"data/preprocessed.csv\")\n",
    "data_spotify = pd.read_csv(\"data/preprocessed_spotify.csv\")\n",
    "documents = data['clean_lyrics']\n",
    "\n",
    "# Vectorize documents using TF-IDF\n",
    "vectorizer = TfidfVectorizer(tokenizer= word_tokenize, min_df= 0.01, max_df= 0.6)\n",
    "X = vectorizer.fit_transform(documents)\n",
    "feature_names = vectorizer.get_feature_names_out()\n",
    "\n",
    "# Define range of topics\n",
    "topic_range = range(2, 21)\n",
    "\n",
    "# Store perplexity and coherence scores\n",
    "lsa_explained_variance = []\n",
    "nmf_reconstruction_error = []\n",
    "lsa_coherence = []\n",
    "nmf_coherence = []\n",
    "\n",
    "# store LSA and NMF trained models\n",
    "lsa_models = []\n",
    "nmf_models = []\n",
    "\n",
    "# Store topic modeling results\n",
    "lsa_topics = {}\n",
    "nmf_topics = {}\n",
    "\n",
    "for n_topics in tqdm(topic_range):\n",
    "    # LSA model\n",
    "    lsa_model = TruncatedSVD(n_components=n_topics)\n",
    "    lsa_topic_matrix = lsa_model.fit_transform(X)\n",
    "    lsa_explained_variance.append(lsa_model.explained_variance_ratio_.sum())\n",
    "    # LSA coherence (approximation using gensim)\n",
    "    lsa_topic_words = [list(map(lambda x: feature_names[x], np.argsort(topic)[::-1])) \n",
    "                       for topic in lsa_model.components_]\n",
    "    \n",
    "    # Create a dictionary and a corpus\n",
    "    # Prepare data for coherence calculation\n",
    "    corpus = [text.split() for text in data_spotify['clean_lyrics']]\n",
    "    dictionary = Dictionary(corpus)\n",
    "    coherence_model_lda = CoherenceModel(topics=lsa_topic_words, texts= corpus, \n",
    "                            dictionary=dictionary, coherence='c_v')\n",
    "    lsa_coherence.append(coherence_model_lda.get_coherence())\n",
    "    lsa_models.append(lsa_model)\n",
    "    del lsa_model\n",
    "\n",
    "    # NMF model\n",
    "    nmf_model = NMF(n_components=n_topics)\n",
    "    nmf_topic_matrix = nmf_model.fit_transform(X)\n",
    "    nmf_reconstruction_error.append(nmf_model.reconstruction_err_)\n",
    "    # NMF coherence (approximation using gensim)\n",
    "    nmf_topic_words = [list(map(lambda x: feature_names[x], np.argsort(topic)[::-1])) \n",
    "                       for topic in nmf_model.components_]\n",
    "    coherence_model_lda = CoherenceModel(topics=nmf_topic_words, texts= corpus, \n",
    "                                         dictionary=dictionary, coherence='c_v')\n",
    "    nmf_coherence.append(coherence_model_lda.get_coherence())\n",
    "    nmf_models.append(nmf_model)\n",
    "    del nmf_model\n",
    "\n",
    "    # Store topic matrices for t-SNE visualization\n",
    "    lsa_topics[n_topics] = lsa_topic_matrix\n",
    "    nmf_topics[n_topics] = nmf_topic_matrix\n",
    "\n",
    "# Results DataFrame\n",
    "results_df = pd.DataFrame({\n",
    "    'Topics': topic_range,\n",
    "    'LSA Perplexity': lsa_explained_variance,\n",
    "    'NMF Perplexity': nmf_reconstruction_error,\n",
    "    'LSA Coherence': lsa_coherence,\n",
    "    'NMF Coherence': nmf_coherence\n",
    "})\n",
    "\n",
    "print(results_df)\n"
   ]
  },
  {
   "cell_type": "code",
   "execution_count": null,
   "metadata": {},
   "outputs": [],
   "source": [
    "# Visualization using t-SNE\n",
    "def plot_tsne(topic_matrices, model_name):\n",
    "    tsne_results = {}\n",
    "    for n_topics, matrix in topic_matrices.items():\n",
    "        tsne = TSNE(n_components=2, random_state=0)\n",
    "        tsne_result = tsne.fit_transform(matrix)\n",
    "        tsne_results[n_topics] = tsne_result\n",
    "\n",
    "    plt.figure(figsize=(14, 8))\n",
    "    for n_topics, tsne_result in tsne_results.items():\n",
    "        plt.scatter(tsne_result[:, 0], tsne_result[:, 1], label=f'{model_name} {n_topics} topics')\n",
    "    \n",
    "    plt.title(f't-SNE Visualization of {model_name} Topics')\n",
    "    plt.xlabel('Component 1')\n",
    "    plt.ylabel('Component 2')\n",
    "    plt.legend()\n",
    "    plt.show()\n",
    "\n",
    "# Plot t-SNE results\n",
    "plot_tsne(lsa_topics, 'LSA')\n",
    "plot_tsne(nmf_topics, 'NMF')"
   ]
  }
 ],
 "metadata": {
  "kernelspec": {
   "display_name": "github",
   "language": "python",
   "name": "python3"
  },
  "language_info": {
   "codemirror_mode": {
    "name": "ipython",
    "version": 3
   },
   "file_extension": ".py",
   "mimetype": "text/x-python",
   "name": "python",
   "nbconvert_exporter": "python",
   "pygments_lexer": "ipython3",
   "version": "3.10.13"
  }
 },
 "nbformat": 4,
 "nbformat_minor": 2
}
